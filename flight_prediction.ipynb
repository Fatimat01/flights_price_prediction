{
 "cells": [
  {
   "cell_type": "code",
   "execution_count": null,
   "id": "ac752d94",
   "metadata": {},
   "outputs": [
    {
     "name": "stdout",
     "output_type": "stream",
     "text": [
      "\u001b[0m"
     ]
    }
   ],
   "source": [
    "!dvc config --global studio.token $STUDIO_TOKEN"
   ]
  },
  {
   "cell_type": "code",
   "execution_count": null,
   "id": "862bf9a9",
   "metadata": {},
   "outputs": [],
   "source": [
    "# create a directory for DVC storage\n",
    "!mkdir /tmp/dvc_storage_fpp\n"
   ]
  },
  {
   "cell_type": "code",
   "execution_count": 5,
   "id": "80a856ed",
   "metadata": {},
   "outputs": [
    {
     "name": "stdout",
     "output_type": "stream",
     "text": [
      "Setting 'localremote' as a default remote.\n",
      "\u001b[0m\u001b[32mlocalremote     \u001b[0m\u001b[32m/tmp/dvc_storage_fpp    \u001b[0m\u001b[32m(default)\u001b[0m\n",
      "\u001b[0m"
     ]
    }
   ],
   "source": [
    "# add a local remote storage for DVC\n",
    "!dvc remote add -d localremote /tmp/dvc_storage_fpp\n",
    "!dvc remote list"
   ]
  },
  {
   "cell_type": "code",
   "execution_count": 6,
   "id": "5a491de1",
   "metadata": {},
   "outputs": [
    {
     "name": "stdout",
     "output_type": "stream",
     "text": [
      "[core]\n",
      "    remote = localremote\n",
      "['remote \"localremote\"']\n",
      "    url = /tmp/dvc_storage_fpp\n"
     ]
    }
   ],
   "source": [
    "!cat .dvc/config"
   ]
  },
  {
   "cell_type": "code",
   "execution_count": 7,
   "id": "c993d3bd",
   "metadata": {},
   "outputs": [
    {
     "name": "stdout",
     "output_type": "stream",
     "text": [
      "[main 73af219] Add DVC local remote storage\n",
      " 2 files changed, 55 insertions(+)\n",
      " create mode 100644 flight_prediction.ipynb\n",
      "Enumerating objects: 8, done.\n",
      "Counting objects: 100% (8/8), done.\n",
      "Delta compression using up to 12 threads\n",
      "Compressing objects: 100% (5/5), done.\n",
      "Writing objects: 100% (5/5), 919 bytes | 919.00 KiB/s, done.\n",
      "Total 5 (delta 0), reused 0 (delta 0), pack-reused 0 (from 0)\n",
      "To https://github.com/Fatimat01/flights_price_prediction.git\n",
      "   9575f35..73af219  main -> main\n"
     ]
    }
   ],
   "source": [
    "!git add .\n",
    "!git commit -m \"Add DVC local remote storage\"\n",
    "!git push origin main"
   ]
  },
  {
   "cell_type": "markdown",
   "id": "256d5b3e",
   "metadata": {},
   "source": [
    "### Train model"
   ]
  },
  {
   "cell_type": "code",
   "execution_count": 8,
   "id": "361e0ea8",
   "metadata": {},
   "outputs": [],
   "source": [
    "import pandas as pd\n",
    "import numpy as np\n",
    "import seaborn as sns\n",
    "import matplotlib.pyplot as plt\n",
    "\n",
    "from sklearn.compose import ColumnTransformer\n",
    "from sklearn.pipeline import Pipeline\n",
    "from sklearn.impute import SimpleImputer\n",
    "from sklearn.preprocessing import StandardScaler, OneHotEncoder\n",
    "from sklearn.model_selection import train_test_split"
   ]
  },
  {
   "cell_type": "code",
   "execution_count": null,
   "id": "e57b9a8a",
   "metadata": {},
   "outputs": [],
   "source": []
  }
 ],
 "metadata": {
  "kernelspec": {
   "display_name": "project_env",
   "language": "python",
   "name": "project_env"
  },
  "language_info": {
   "codemirror_mode": {
    "name": "ipython",
    "version": 3
   },
   "file_extension": ".py",
   "mimetype": "text/x-python",
   "name": "python",
   "nbconvert_exporter": "python",
   "pygments_lexer": "ipython3",
   "version": "3.11.11"
  }
 },
 "nbformat": 4,
 "nbformat_minor": 5
}
